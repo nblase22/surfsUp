{
 "cells": [
  {
   "cell_type": "code",
   "execution_count": 4,
   "metadata": {
    "collapsed": true
   },
   "outputs": [],
   "source": [
    "# add dependencies\n",
    "import pandas as pd\n",
    "import os\n",
    "import datetime\n",
    "\n",
    "from sqlalchemy import create_engine\n",
    "from sqlalchemy.orm import Session\n",
    "from sqlalchemy.ext.declarative import declarative_base\n",
    "Base = declarative_base()\n",
    "\n",
    "from sqlalchemy import Column, Integer, String, Float, and_, Date\n",
    "\n",
    "# PyMySQL \n",
    "import pymysql\n",
    "pymysql.install_as_MySQLdb()"
   ]
  },
  {
   "cell_type": "code",
   "execution_count": 9,
   "metadata": {},
   "outputs": [
    {
     "name": "stdout",
     "output_type": "stream",
     "text": [
      "Enter a start date for your trip\n",
      "Enter a date in YYYY-MM-DD format: 2011-12-01\n",
      "Enter an end date for your trip:\n"
     ]
    }
   ],
   "source": [
    "# collect the start and end dates of the trips\n",
    "date_entry = input('Enter a start date for your trip in YYYY-MM-DD format: ')\n",
    "year, month, day = map(int, date_entry.split('-'))\n",
    "start_date = datetime.date(year, month, day)\n",
    "\n",
    "date_entry = input('Enter an end date for your trip in YYYY-MM-DD format: ')\n",
    "year, month, day = map(int, date_entry.split('-'))\n",
    "end_date = datetime.date(year, month, day)"
   ]
  },
  {
   "cell_type": "code",
   "execution_count": null,
   "metadata": {
    "collapsed": true
   },
   "outputs": [],
   "source": [
    "# Use create the engine and assign classes\n",
    "engine = create_engine(\"sqlite:///hawaii.sqlite\")\n",
    "\n",
    "# Declare a Base using `automap_base()`\n",
    "Base = automap_base()\n",
    "\n",
    "# Use the Base class to reflect the database tables\n",
    "Base.prepare(engine, reflect=True)\n",
    "\n",
    "Station = Base.classes.Stations\n",
    "Measurement = Base.classes.Measurements\n",
    "\n",
    "session = Session(engine)"
   ]
  },
  {
   "cell_type": "markdown",
   "metadata": {},
   "source": [
    "Precipitation Analysis"
   ]
  },
  {
   "cell_type": "code",
   "execution_count": null,
   "metadata": {
    "collapsed": true
   },
   "outputs": [],
   "source": [
    "# get the date 1 year ago\n",
    "year_ago = start_date - datetime.timedelta(365)\n",
    "\n",
    "pcp_year = session.query(Measurement.date, Measurement.prcp).filter(and_(Measurement.date <= start_date,\n",
    "                                                                        Measurement.date >= year_ago))\n",
    "\n",
    "# create the dataframe and set date as the index\n",
    "pcp_df = pd.dataframe(pcp_year, columns = [\"date\", \"prcp\"])\n",
    "pcp_df.set_index('date', inplace=True)"
   ]
  },
  {
   "cell_type": "code",
   "execution_count": null,
   "metadata": {
    "collapsed": true
   },
   "outputs": [],
   "source": [
    "# Plot the dataframe as a chart using pandas plotting\n",
    "pcp_df.iloc[::-1].plot(title=\"Precipitation from %s to %s\" % (year_ago, start_date))\n",
    "plt.tight_layout()\n",
    "plt.show()"
   ]
  },
  {
   "cell_type": "code",
   "execution_count": null,
   "metadata": {
    "collapsed": true
   },
   "outputs": [],
   "source": [
    "# give summary statistics of the dataframe\n",
    "pcp_df.describe()"
   ]
  },
  {
   "cell_type": "markdown",
   "metadata": {},
   "source": [
    "Station Analysis"
   ]
  },
  {
   "cell_type": "code",
   "execution_count": null,
   "metadata": {
    "collapsed": true
   },
   "outputs": [],
   "source": [
    "# calculate the number of stations\n",
    "num_stations = session.query(Station.station).count()\n",
    "print(\"The number of stations is: %s\" % num_stations)"
   ]
  },
  {
   "cell_type": "code",
   "execution_count": null,
   "metadata": {
    "collapsed": true
   },
   "outputs": [],
   "source": [
    "# find the most active station\n",
    "act_stations = session.query(Measurement.station).group_by(Measurement.station).count().order_by(desc())\n",
    "\n",
    "most_active = act_stations.max()\n",
    "\n",
    "print(\"The most active station is: %s\" % most_active)\n",
    "act_stations.head(num_stations)"
   ]
  },
  {
   "cell_type": "code",
   "execution_count": null,
   "metadata": {
    "collapsed": true
   },
   "outputs": [],
   "source": [
    "# get the last 12 months of temperature data\n",
    "\n",
    "temp_year = session.query(Measurement.date, Measurement.tobs).filter(and_(Measurement.date <= start_date,\n",
    "                                                                        Measurement.date >= year_ago,\n",
    "                                                                         Measurement.station == most_active))\n",
    "\n",
    "# create the dataframe and set date as the index\n",
    "temp_df = pd.dataframe(temp_year, columns = [\"date\", \"tobs\"])\n",
    "temp_df.set_index('date', inplace=True)"
   ]
  },
  {
   "cell_type": "code",
   "execution_count": null,
   "metadata": {
    "collapsed": true
   },
   "outputs": [],
   "source": [
    "# create a histogram of the temperature data\n",
    "pcp_df.iloc[::-1].plot.hist(title=\"Temperature from %s to %s\" % (year_ago, start_date), bins = 12)\n",
    "plt.tight_layout()\n",
    "plt.show()"
   ]
  },
  {
   "cell_type": "markdown",
   "metadata": {},
   "source": [
    "Temperature Analysis"
   ]
  },
  {
   "cell_type": "code",
   "execution_count": null,
   "metadata": {
    "collapsed": true
   },
   "outputs": [],
   "source": [
    "def calc_temps(start, end):\n",
    "    "
   ]
  },
  {
   "cell_type": "markdown",
   "metadata": {},
   "source": [
    "Optional Analysis"
   ]
  },
  {
   "cell_type": "code",
   "execution_count": null,
   "metadata": {
    "collapsed": true
   },
   "outputs": [],
   "source": []
  }
 ],
 "metadata": {
  "kernelspec": {
   "display_name": "Python [conda env:PythonData]",
   "language": "python",
   "name": "conda-env-PythonData-py"
  },
  "language_info": {
   "codemirror_mode": {
    "name": "ipython",
    "version": 3
   },
   "file_extension": ".py",
   "mimetype": "text/x-python",
   "name": "python",
   "nbconvert_exporter": "python",
   "pygments_lexer": "ipython3",
   "version": "3.6.1"
  }
 },
 "nbformat": 4,
 "nbformat_minor": 2
}
